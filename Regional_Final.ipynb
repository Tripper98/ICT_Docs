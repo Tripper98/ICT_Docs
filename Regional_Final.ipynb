{
 "cells": [
  {
   "cell_type": "markdown",
   "metadata": {},
   "source": [
    "# <center>Tasks1 : Basic Python "
   ]
  },
  {
   "cell_type": "code",
   "execution_count": 1,
   "metadata": {},
   "outputs": [
    {
     "data": {
      "text/plain": [
       "[0, 2, 2, 3, [4, 5]]"
      ]
     },
     "execution_count": 1,
     "metadata": {},
     "output_type": "execute_result"
    }
   ],
   "source": [
    "# EX 1 \n",
    "x = [0, 2, 2, 3]\n",
    "y = [4, 5]\n",
    "x.append(y)\n",
    "x"
   ]
  },
  {
   "cell_type": "code",
   "execution_count": 2,
   "metadata": {},
   "outputs": [
    {
     "data": {
      "text/plain": [
       "[0, 2, 3]"
      ]
     },
     "execution_count": 2,
     "metadata": {},
     "output_type": "execute_result"
    }
   ],
   "source": [
    "# EX  2\n",
    "x = [0, 2, 2, 3]\n",
    "x.remove(2)\n",
    "x"
   ]
  },
  {
   "cell_type": "code",
   "execution_count": 3,
   "metadata": {},
   "outputs": [
    {
     "data": {
      "text/plain": [
       "{'John': 'CEO', 'Nacy': 'hr', 'LiLei': 'engineer'}"
      ]
     },
     "execution_count": 3,
     "metadata": {},
     "output_type": "execute_result"
    }
   ],
   "source": [
    "# EX 3\n",
    "Data = [(\"John\", \"CEO\"), (\"Nacy\", \"hr\"), (\"LiLei\", \"engineer\")]\n",
    "dict_1 = {name : work for name,work in Data}\n",
    "dict_1"
   ]
  },
  {
   "cell_type": "code",
   "execution_count": 5,
   "metadata": {},
   "outputs": [
    {
     "data": {
      "text/plain": [
       "['a', 'b', 'c', 'd']"
      ]
     },
     "execution_count": 5,
     "metadata": {},
     "output_type": "execute_result"
    }
   ],
   "source": [
    "# EX 4 \n",
    "old_list=[\"a\",\"b\",\"c\",\"d\"] \n",
    "new_list = old_list.copy()\n",
    "new_list"
   ]
  },
  {
   "cell_type": "code",
   "execution_count": 9,
   "metadata": {},
   "outputs": [
    {
     "name": "stdout",
     "output_type": "stream",
     "text": [
      "Union :  {1, 2, 3, 5}\n",
      "Difference A\\B:  {5}\n",
      "Difference B\\A:  {2}\n",
      "Intersection :  {1, 3}\n"
     ]
    }
   ],
   "source": [
    "# EX 5 \n",
    "A={1, 3, 5} \n",
    "B={1, 2, 3}\n",
    "\n",
    "print(\"Union : \",A|B)\n",
    "print(\"Difference A\\B: \",A.difference(B)) # A-B\n",
    "print(\"Difference B\\A: \",B.difference(A)) # A-B\n",
    "print(\"Intersection : \",A&B)"
   ]
  },
  {
   "cell_type": "code",
   "execution_count": 10,
   "metadata": {},
   "outputs": [
    {
     "data": {
      "text/plain": [
       "[1, 2, 3, 'a', 'b', 6]"
      ]
     },
     "execution_count": 10,
     "metadata": {},
     "output_type": "execute_result"
    }
   ],
   "source": [
    "# EX 6 \n",
    "listone = [1, 2, 3]\n",
    "listtwo = [\"a\", \"b\", 6]\n",
    "list_connected = listone+listtwo\n",
    "list_connected"
   ]
  },
  {
   "cell_type": "code",
   "execution_count": 61,
   "metadata": {},
   "outputs": [
    {
     "data": {
      "text/plain": [
       "'13:27:23'"
      ]
     },
     "execution_count": 61,
     "metadata": {},
     "output_type": "execute_result"
    }
   ],
   "source": [
    "# EX 7 \n",
    "# import time \n",
    "# time.localtime()\n",
    "from datetime import datetime\n",
    "now = datetime.now()\n",
    "now.strftime(\"%H:%M:%S\")"
   ]
  },
  {
   "cell_type": "markdown",
   "metadata": {},
   "source": [
    "# <center>Tasks2 : Basic TensorFlow Operations "
   ]
  },
  {
   "cell_type": "code",
   "execution_count": 14,
   "metadata": {},
   "outputs": [],
   "source": [
    "# EX 1\n",
    "import tensorflow as tf "
   ]
  },
  {
   "cell_type": "code",
   "execution_count": 29,
   "metadata": {},
   "outputs": [
    {
     "name": "stdout",
     "output_type": "stream",
     "text": [
      "b'Hello, TensorFlow!'\n"
     ]
    }
   ],
   "source": [
    "# Ex 2 \n",
    "const_hello = tf.constant(\"Hello, TensorFlow!\")\n",
    "#EX 3 \n",
    "tf.compat.v1.disable_eager_execution()\n",
    "sess = tf.compat.v1.Session()\n",
    "# Ex 4 \n",
    "print(sess.run(const_hello))\n",
    "# Ex 5 \n",
    "sess.close()"
   ]
  },
  {
   "cell_type": "code",
   "execution_count": 32,
   "metadata": {},
   "outputs": [
    {
     "name": "stdout",
     "output_type": "stream",
     "text": [
      "Sum:  7.0\n",
      "Multiplication :  12.0\n"
     ]
    }
   ],
   "source": [
    "# Ex 6\n",
    "import tensorflow as tf \n",
    "a = tf.constant(3.0)\n",
    "b = tf.constant(4.0)\n",
    "sum_a_b = a+b\n",
    "mult_a_b = a*b \n",
    "# EX 7 \n",
    "with tf.compat.v1.Session() as s : \n",
    "    print(\"Sum: \",s.run(sum_a_b))\n",
    "    print(\"Multiplication : \", s.run(mult_a_b))\n",
    "    s.close()"
   ]
  },
  {
   "cell_type": "code",
   "execution_count": 62,
   "metadata": {},
   "outputs": [
    {
     "name": "stdout",
     "output_type": "stream",
     "text": [
      "Sum:  7.0\n",
      "Multiplication :  12.0\n"
     ]
    }
   ],
   "source": [
    "# EX 8 \n",
    "import tensorflow.compat.v1 as tf\n",
    "a = tf.placeholder(tf.float32)\n",
    "b = tf.placeholder(tf.float32)\n",
    "# EX  9\n",
    "add = tf.add(a,b)\n",
    "# EX 10 \n",
    "mul = tf.math.multiply(a,b)\n",
    "# EX 11 \n",
    "with tf.Session() as ss : \n",
    "# EX 12 \n",
    "    data =(3,4)\n",
    "    print(\"Sum: \" ,ss.run(add,feed_dict= { a:data[0],b:data[1]}))\n",
    "    print(\"Multiplication : \",ss.run(mul,feed_dict= { a:data[0],b:data[1]}))\n"
   ]
  },
  {
   "cell_type": "code",
   "execution_count": null,
   "metadata": {},
   "outputs": [],
   "source": []
  }
 ],
 "metadata": {
  "kernelspec": {
   "display_name": "Python 3",
   "language": "python",
   "name": "python3"
  },
  "language_info": {
   "codemirror_mode": {
    "name": "ipython",
    "version": 3
   },
   "file_extension": ".py",
   "mimetype": "text/x-python",
   "name": "python",
   "nbconvert_exporter": "python",
   "pygments_lexer": "ipython3",
   "version": "3.7.6"
  }
 },
 "nbformat": 4,
 "nbformat_minor": 4
}
